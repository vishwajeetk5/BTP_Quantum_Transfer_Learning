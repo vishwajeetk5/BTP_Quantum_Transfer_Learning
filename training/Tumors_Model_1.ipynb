{
  "metadata": {
    "kernelspec": {
      "display_name": "Python 3",
      "name": "python3"
    },
    "language_info": {
      "name": "python",
      "version": "3.10.13",
      "mimetype": "text/x-python",
      "codemirror_mode": {
        "name": "ipython",
        "version": 3
      },
      "pygments_lexer": "ipython3",
      "nbconvert_exporter": "python",
      "file_extension": ".py"
    },
    "kaggle": {
      "accelerator": "gpu",
      "dataSources": [
        {
          "sourceId": 3347069,
          "sourceType": "datasetVersion",
          "datasetId": 2020131
        },
        {
          "sourceId": 8629603,
          "sourceType": "datasetVersion",
          "datasetId": 5166864
        },
        {
          "sourceId": 40754,
          "sourceType": "modelInstanceVersion",
          "isSourceIdPinned": true,
          "modelInstanceId": 34310
        },
        {
          "sourceId": 40864,
          "sourceType": "modelInstanceVersion",
          "isSourceIdPinned": true,
          "modelInstanceId": 34392
        },
        {
          "sourceId": 40961,
          "sourceType": "modelInstanceVersion",
          "modelInstanceId": 34467
        },
        {
          "sourceId": 41216,
          "sourceType": "modelInstanceVersion",
          "isSourceIdPinned": true,
          "modelInstanceId": 34686
        },
        {
          "sourceId": 63269,
          "sourceType": "modelInstanceVersion",
          "isSourceIdPinned": true,
          "modelInstanceId": 52750
        }
      ],
      "isInternetEnabled": true,
      "language": "python",
      "sourceType": "notebook",
      "isGpuEnabled": true
    },
    "colab": {
      "provenance": [],
      "gpuType": "T4"
    },
    "accelerator": "GPU"
  },
  "nbformat_minor": 0,
  "nbformat": 4,
  "cells": [
    {
      "cell_type": "code",
      "source": [
        "from google.colab import drive\n",
        "drive.mount('/content/drive')"
      ],
      "metadata": {
        "colab": {
          "base_uri": "https://localhost:8080/"
        },
        "id": "on0G6vbtT909",
        "outputId": "666c013f-3fab-4328-a777-2225838cc7fb"
      },
      "execution_count": null,
      "outputs": [
        {
          "output_type": "stream",
          "name": "stdout",
          "text": [
            "Mounted at /content/drive\n"
          ]
        }
      ]
    },
    {
      "cell_type": "code",
      "source": [
        "import os\n",
        "import time\n",
        "import copy\n",
        "\n",
        "# PyTorch\n",
        "import torch\n",
        "import torch.nn as nn\n",
        "import torch.optim as optim\n",
        "\n",
        "from torch.optim import lr_scheduler\n",
        "import torchvision\n",
        "from torchvision import datasets, transforms\n",
        "from torchvision.datasets.folder import IMG_EXTENSIONS\n",
        "\n",
        "import pandas as pd\n",
        "import matplotlib.pyplot as plt\n",
        "import cv2\n",
        "\n",
        "import shutil\n",
        "import PIL\n",
        "import numpy as np\n",
        "import pickle\n",
        "import h5py"
      ],
      "metadata": {
        "id": "lW2XNspBdt9N"
      },
      "execution_count": null,
      "outputs": []
    },
    {
      "cell_type": "code",
      "source": [
        "# Ensure compatibility with .jpg files\n",
        "IMG_EXTENSIONS = ('.jpg', '.jpeg')  # Restrict to jpg and jpeg\n",
        "\n",
        "# Function to load and preprocess the dataset\n",
        "def load_dataset(data_dir):\n",
        "    data_transforms = {\n",
        "        'train': transforms.Compose([\n",
        "            transforms.Resize((224, 224)),\n",
        "            transforms.RandomHorizontalFlip(),\n",
        "            transforms.ToTensor(),\n",
        "            transforms.Normalize([0.485, 0.456, 0.406], [0.229, 0.224, 0.225])\n",
        "        ]),\n",
        "        'val': transforms.Compose([\n",
        "            transforms.Resize((224, 224)),\n",
        "            transforms.ToTensor(),\n",
        "            transforms.Normalize([0.485, 0.456, 0.406], [0.229, 0.224, 0.225])\n",
        "        ]),\n",
        "    }\n",
        "\n",
        "    # Load datasets for train and validation\n",
        "    image_datasets = {x: datasets.ImageFolder(os.path.join(data_dir, x), data_transforms[x])\n",
        "                      for x in ['train', 'val']}\n",
        "\n",
        "    dataloaders = {x: torch.utils.data.DataLoader(image_datasets[x], batch_size=32, shuffle=True, num_workers=4)\n",
        "                   for x in ['train', 'val']}\n",
        "\n",
        "    dataset_sizes = {x: len(image_datasets[x]) for x in ['train', 'val']}\n",
        "    class_names = image_datasets['train'].classes\n",
        "\n",
        "    return dataloaders, dataset_sizes, class_names"
      ],
      "metadata": {
        "id": "qz3AFiNwdxnn"
      },
      "execution_count": null,
      "outputs": []
    },
    {
      "cell_type": "code",
      "source": [
        "# Update model training pipeline to ensure .jpg compatibility\n",
        "def train_model(model, criterion, optimizer, scheduler, num_epochs=25):\n",
        "    since = time.time()\n",
        "\n",
        "    best_model_wts = copy.deepcopy(model.state_dict())\n",
        "    best_acc = 0.0\n",
        "\n",
        "    train_losses = []\n",
        "    val_losses = []\n",
        "    train_accuracies = []\n",
        "    val_accuracies = []\n",
        "\n",
        "    for epoch in range(num_epochs):\n",
        "        print(f'Epoch {epoch}/{num_epochs - 1}')\n",
        "        print('-' * 10)\n",
        "\n",
        "        # Each epoch has a training and validation phase\n",
        "        for phase in ['train', 'val']:\n",
        "            if phase == 'train':\n",
        "                model.train()  # Set model to training mode\n",
        "            else:\n",
        "                model.eval()   # Set model to evaluate mode\n",
        "\n",
        "            running_loss = 0.0\n",
        "            running_corrects = 0\n",
        "\n",
        "            # Iterate over data.\n",
        "            for inputs, labels in dataloaders[phase]:\n",
        "                inputs = inputs.to(device)\n",
        "                labels = labels.to(device)\n",
        "\n",
        "                # Zero the parameter gradients\n",
        "                optimizer.zero_grad()\n",
        "\n",
        "                # Forward\n",
        "                # Track history if only in train\n",
        "                with torch.set_grad_enabled(phase == 'train'):\n",
        "                    outputs = model(inputs)\n",
        "                    _, preds = torch.max(outputs, 1)\n",
        "                    loss = criterion(outputs, labels)\n",
        "\n",
        "                    # Backward + optimize only if in training phase\n",
        "                    if phase == 'train':\n",
        "                        loss.backward()\n",
        "                        optimizer.step()\n",
        "\n",
        "                # Statistics\n",
        "                running_loss += loss.item() * inputs.size(0)\n",
        "                running_corrects += torch.sum(preds == labels.data)\n",
        "\n",
        "            if phase == 'train':\n",
        "                scheduler.step()\n",
        "\n",
        "            epoch_loss = running_loss / dataset_sizes[phase]\n",
        "            epoch_acc = running_corrects.double() / dataset_sizes[phase]\n",
        "\n",
        "            print(f'{phase} Loss: {epoch_loss:.4f} Acc: {epoch_acc:.4f}')\n",
        "\n",
        "            # Save metrics for visualization\n",
        "            if phase == 'train':\n",
        "                train_losses.append(epoch_loss)\n",
        "                train_accuracies.append(epoch_acc.item())\n",
        "            else:\n",
        "                val_losses.append(epoch_loss)\n",
        "                val_accuracies.append(epoch_acc.item())\n",
        "\n",
        "            # Deep copy the model\n",
        "            if phase == 'val' and epoch_acc > best_acc:\n",
        "                best_acc = epoch_acc\n",
        "                best_model_wts = copy.deepcopy(model.state_dict())\n",
        "\n",
        "        print()\n",
        "\n",
        "    time_elapsed = time.time() - since\n",
        "    print(f'Training complete in {time_elapsed // 60:.0f}m {time_elapsed % 60:.0f}s')\n",
        "    print(f'Best val Acc: {best_acc:4f}')\n",
        "\n",
        "    # Load best model weights\n",
        "    model.load_state_dict(best_model_wts)\n",
        "\n",
        "    # Plot training and validation loss\n",
        "    plt.figure(figsize=(10, 5))\n",
        "    plt.plot(train_losses, label='Training Loss')\n",
        "    plt.plot(val_losses, label='Validation Loss')\n",
        "    plt.title('Loss Over Epochs')\n",
        "    plt.xlabel('Epochs')\n",
        "    plt.ylabel('Loss')\n",
        "    plt.legend()\n",
        "    plt.show()\n",
        "\n",
        "    # Plot training and validation accuracy\n",
        "    plt.figure(figsize=(10, 5))\n",
        "    plt.plot(train_accuracies, label='Training Accuracy')\n",
        "    plt.plot(val_accuracies, label='Validation Accuracy')\n",
        "    plt.title('Accuracy Over Epochs')\n",
        "    plt.xlabel('Epochs')\n",
        "    plt.ylabel('Accuracy')\n",
        "    plt.legend()\n",
        "    plt.show()\n",
        "\n",
        "    return model"
      ],
      "metadata": {
        "id": "SnQiRgPHd3QZ"
      },
      "execution_count": null,
      "outputs": []
    },
    {
      "cell_type": "code",
      "source": [
        "# Save the model\n",
        "def save_model(model, path):\n",
        "    torch.save(model.state_dict(), path)\n",
        "    print(f\"Model saved to {path}\")\n"
      ],
      "metadata": {
        "id": "V8ijziGwd9pO"
      },
      "execution_count": null,
      "outputs": []
    },
    {
      "cell_type": "code",
      "source": [
        "# Test on a single image\n",
        "def test_single_image(model, image_path, class_names):\n",
        "    model.eval()\n",
        "\n",
        "    # Preprocess the image\n",
        "    preprocess = transforms.Compose([\n",
        "        transforms.Resize((224, 224)),\n",
        "        transforms.ToTensor(),\n",
        "        transforms.Normalize([0.485, 0.456, 0.406], [0.229, 0.224, 0.225])\n",
        "    ])\n",
        "\n",
        "    image = PIL.Image.open(image_path).convert('RGB')\n",
        "    image = preprocess(image).unsqueeze(0).to(device)\n",
        "\n",
        "    # Make prediction\n",
        "    with torch.no_grad():\n",
        "        outputs = model(image)\n",
        "        _, preds = torch.max(outputs, 1)\n",
        "        predicted_class = class_names[preds[0]]\n",
        "\n",
        "    print(f\"Predicted Class: {predicted_class}\")\n"
      ],
      "metadata": {
        "id": "emiaqBlleB9I"
      },
      "execution_count": null,
      "outputs": []
    },
    {
      "cell_type": "code",
      "source": [
        "# Set device\n",
        "device = torch.device(\"cuda:0\" if torch.cuda.is_available() else \"cpu\")\n",
        "device"
      ],
      "metadata": {
        "colab": {
          "base_uri": "https://localhost:8080/"
        },
        "id": "IOTdJAJmeDRi",
        "outputId": "7b6871a6-2915-4870-ce40-ae8d0b765e30"
      },
      "execution_count": null,
      "outputs": [
        {
          "output_type": "execute_result",
          "data": {
            "text/plain": [
              "device(type='cuda', index=0)"
            ]
          },
          "metadata": {},
          "execution_count": 9
        }
      ]
    },
    {
      "cell_type": "code",
      "source": [
        "# Define paths and model\n",
        "data_dir = '/content/drive/MyDrive/bt_output'\n",
        "dataloaders, dataset_sizes, class_names = load_dataset(data_dir)"
      ],
      "metadata": {
        "colab": {
          "base_uri": "https://localhost:8080/"
        },
        "id": "Spib8LLeeJtH",
        "outputId": "0f097f98-230a-4278-85da-c9b430523317"
      },
      "execution_count": null,
      "outputs": [
        {
          "output_type": "stream",
          "name": "stderr",
          "text": [
            "/usr/local/lib/python3.10/dist-packages/torch/utils/data/dataloader.py:617: UserWarning: This DataLoader will create 4 worker processes in total. Our suggested max number of worker in current system is 2, which is smaller than what this DataLoader is going to create. Please be aware that excessive worker creation might get DataLoader running slow or even freeze, lower the worker number to avoid potential slowness/freeze if necessary.\n",
            "  warnings.warn(\n"
          ]
        }
      ]
    },
    {
      "cell_type": "code",
      "source": [
        "# Example: Initialize a pre-trained model for transfer learning\n",
        "model_ft = torchvision.models.resnet18(pretrained=True)\n",
        "num_ftrs = model_ft.fc.in_features\n",
        "model_ft.fc = nn.Linear(num_ftrs, len(class_names))\n",
        "model_ft = model_ft.to(device)\n",
        "\n",
        "# Define loss function and optimizer\n",
        "criterion = nn.CrossEntropyLoss()\n",
        "optimizer_ft = optim.SGD(model_ft.parameters(), lr=0.001, momentum=0.9)\n",
        "scheduler = lr_scheduler.StepLR(optimizer_ft, step_size=7, gamma=0.1)"
      ],
      "metadata": {
        "colab": {
          "base_uri": "https://localhost:8080/"
        },
        "id": "21yWZO_BeMev",
        "outputId": "e0869df3-808f-4f71-9dfb-9f5cda79f151"
      },
      "execution_count": null,
      "outputs": [
        {
          "output_type": "stream",
          "name": "stderr",
          "text": [
            "/usr/local/lib/python3.10/dist-packages/torchvision/models/_utils.py:208: UserWarning: The parameter 'pretrained' is deprecated since 0.13 and may be removed in the future, please use 'weights' instead.\n",
            "  warnings.warn(\n",
            "/usr/local/lib/python3.10/dist-packages/torchvision/models/_utils.py:223: UserWarning: Arguments other than a weight enum or `None` for 'weights' are deprecated since 0.13 and may be removed in the future. The current behavior is equivalent to passing `weights=ResNet18_Weights.IMAGENET1K_V1`. You can also use `weights=ResNet18_Weights.DEFAULT` to get the most up-to-date weights.\n",
            "  warnings.warn(msg)\n"
          ]
        }
      ]
    },
    {
      "cell_type": "code",
      "source": [
        "# Train the model\n",
        "model_ft = train_model(model_ft, criterion, optimizer_ft, scheduler, num_epochs=25)"
      ],
      "metadata": {
        "colab": {
          "base_uri": "https://localhost:8080/",
          "height": 1000
        },
        "id": "W0P1SoMmUnCI",
        "outputId": "763a72e5-e9cf-4287-923f-31149da47a3f"
      },
      "execution_count": null,
      "outputs": [
        {
          "output_type": "stream",
          "name": "stdout",
          "text": [
            "Epoch 0/24\n",
            "----------\n",
            "train Loss: 0.5760 Acc: 0.7497\n",
            "val Loss: 0.2863 Acc: 0.9038\n",
            "\n",
            "Epoch 1/24\n",
            "----------\n",
            "train Loss: 0.2350 Acc: 0.9119\n",
            "val Loss: 0.2216 Acc: 0.9058\n",
            "\n",
            "Epoch 2/24\n",
            "----------\n",
            "train Loss: 0.1586 Acc: 0.9406\n",
            "val Loss: 0.1793 Acc: 0.9299\n",
            "\n",
            "Epoch 3/24\n",
            "----------\n",
            "train Loss: 0.0917 Acc: 0.9728\n",
            "val Loss: 0.2013 Acc: 0.9259\n",
            "\n",
            "Epoch 4/24\n",
            "----------\n",
            "train Loss: 0.0627 Acc: 0.9824\n",
            "val Loss: 0.1567 Acc: 0.9359\n",
            "\n",
            "Epoch 5/24\n",
            "----------\n",
            "train Loss: 0.0588 Acc: 0.9809\n",
            "val Loss: 0.1488 Acc: 0.9419\n",
            "\n",
            "Epoch 6/24\n",
            "----------\n",
            "train Loss: 0.0360 Acc: 0.9894\n",
            "val Loss: 0.1733 Acc: 0.9299\n",
            "\n",
            "Epoch 7/24\n",
            "----------\n",
            "train Loss: 0.0267 Acc: 0.9950\n",
            "val Loss: 0.1405 Acc: 0.9419\n",
            "\n",
            "Epoch 8/24\n",
            "----------\n",
            "train Loss: 0.0245 Acc: 0.9950\n",
            "val Loss: 0.1393 Acc: 0.9459\n",
            "\n",
            "Epoch 9/24\n",
            "----------\n",
            "train Loss: 0.0215 Acc: 0.9970\n",
            "val Loss: 0.1347 Acc: 0.9459\n",
            "\n",
            "Epoch 10/24\n",
            "----------\n",
            "train Loss: 0.0254 Acc: 0.9945\n",
            "val Loss: 0.1366 Acc: 0.9419\n",
            "\n",
            "Epoch 11/24\n",
            "----------\n",
            "train Loss: 0.0220 Acc: 0.9975\n",
            "val Loss: 0.1333 Acc: 0.9419\n",
            "\n",
            "Epoch 12/24\n",
            "----------\n",
            "train Loss: 0.0234 Acc: 0.9955\n",
            "val Loss: 0.1355 Acc: 0.9399\n",
            "\n",
            "Epoch 13/24\n",
            "----------\n",
            "train Loss: 0.0190 Acc: 0.9975\n",
            "val Loss: 0.1401 Acc: 0.9419\n",
            "\n",
            "Epoch 14/24\n",
            "----------\n",
            "train Loss: 0.0222 Acc: 0.9965\n",
            "val Loss: 0.1551 Acc: 0.9419\n",
            "\n",
            "Epoch 15/24\n",
            "----------\n",
            "train Loss: 0.0167 Acc: 0.9980\n",
            "val Loss: 0.1439 Acc: 0.9439\n",
            "\n",
            "Epoch 16/24\n",
            "----------\n",
            "train Loss: 0.0219 Acc: 0.9960\n",
            "val Loss: 0.1350 Acc: 0.9379\n",
            "\n",
            "Epoch 17/24\n",
            "----------\n",
            "train Loss: 0.0184 Acc: 0.9980\n",
            "val Loss: 0.1375 Acc: 0.9419\n",
            "\n",
            "Epoch 18/24\n",
            "----------\n",
            "train Loss: 0.0214 Acc: 0.9965\n",
            "val Loss: 0.1494 Acc: 0.9419\n",
            "\n",
            "Epoch 19/24\n",
            "----------\n",
            "train Loss: 0.0243 Acc: 0.9945\n",
            "val Loss: 0.1551 Acc: 0.9359\n",
            "\n",
            "Epoch 20/24\n",
            "----------\n",
            "train Loss: 0.0231 Acc: 0.9945\n",
            "val Loss: 0.1389 Acc: 0.9439\n",
            "\n",
            "Epoch 21/24\n",
            "----------\n",
            "train Loss: 0.0222 Acc: 0.9965\n",
            "val Loss: 0.1457 Acc: 0.9399\n",
            "\n",
            "Epoch 22/24\n",
            "----------\n",
            "train Loss: 0.0221 Acc: 0.9955\n",
            "val Loss: 0.1602 Acc: 0.9379\n",
            "\n",
            "Epoch 23/24\n",
            "----------\n",
            "train Loss: 0.0224 Acc: 0.9965\n",
            "val Loss: 0.1350 Acc: 0.9379\n",
            "\n",
            "Epoch 24/24\n",
            "----------\n",
            "train Loss: 0.0239 Acc: 0.9950\n",
            "val Loss: 0.1398 Acc: 0.9459\n",
            "\n",
            "Training complete in 9m 1s\n",
            "Best val Acc: 0.945892\n"
          ]
        },
        {
          "output_type": "display_data",
          "data": {
            "text/plain": [
              "<Figure size 1000x500 with 1 Axes>"
            ],
            "image/png": "[encoded data removed]"
          },
          "metadata": {}
        },
        {
          "output_type": "display_data",
          "data": {
            "text/plain": [
              "<Figure size 1000x500 with 1 Axes>"
            ],
            "image/png": "[encoded data removed]"
          },
          "metadata": {}
        }
      ]
    },
    {
      "cell_type": "code",
      "source": [
        "# Save the model\n",
        "save_model_path = '/content/drive/MyDrive/model_ft.pth'\n",
        "save_model(model_ft, save_model_path)"
      ],
      "metadata": {
        "colab": {
          "base_uri": "https://localhost:8080/"
        },
        "id": "qnE0C8n8eW69",
        "outputId": "65e088e9-6c47-406f-b098-8c1b02c7a739"
      },
      "execution_count": null,
      "outputs": [
        {
          "output_type": "stream",
          "name": "stdout",
          "text": [
            "Model saved to /content/drive/MyDrive/model_ft.pth\n"
          ]
        }
      ]
    },
    {
      "cell_type": "code",
      "source": [
        "# Test on a single image\n",
        "image_path = input()\n",
        "test_single_image(model_ft, image_path, class_names)"
      ],
      "metadata": {
        "colab": {
          "base_uri": "https://localhost:8080/"
        },
        "id": "aqFRhMcuebbW",
        "outputId": "16fb43bf-3783-42f6-9ec2-8290c542e069"
      },
      "execution_count": null,
      "outputs": [
        {
          "output_type": "stream",
          "name": "stdout",
          "text": [
            "/content/drive/MyDrive/bt_output/val/1/m (124).jpg\n",
            "Predicted Class: 1\n"
          ]
        }
      ]
    },
    {
      "cell_type": "code",
      "source": [],
      "metadata": {
        "id": "s2DSiDf1jR2F"
      },
      "execution_count": null,
      "outputs": []
    },
    {
      "cell_type": "code",
      "source": [
        "!pip install pennylane"
      ],
      "metadata": {
        "colab": {
          "base_uri": "https://localhost:8080/"
        },
        "id": "aUXsu8Xer0Ah",
        "outputId": "261a83cc-f0ec-442f-9736-eab878f08c20"
      },
      "execution_count": null,
      "outputs": [
        {
          "output_type": "stream",
          "name": "stdout",
          "text": [
            "Collecting pennylane\n",
            "  Downloading PennyLane-0.39.0-py3-none-any.whl.metadata (9.2 kB)\n",
            "Requirement already satisfied: numpy<2.1 in /usr/local/lib/python3.10/dist-packages (from pennylane) (1.26.4)\n",
            "Requirement already satisfied: scipy in /usr/local/lib/python3.10/dist-packages (from pennylane) (1.13.1)\n",
            "Requirement already satisfied: networkx in /usr/local/lib/python3.10/dist-packages (from pennylane) (3.4.2)\n",
            "Collecting rustworkx>=0.14.0 (from pennylane)\n",
            "  Downloading rustworkx-0.15.1-cp38-abi3-manylinux_2_17_x86_64.manylinux2014_x86_64.whl.metadata (9.9 kB)\n",
            "Requirement already satisfied: autograd in /usr/local/lib/python3.10/dist-packages (from pennylane) (1.7.0)\n",
            "Requirement already satisfied: toml in /usr/local/lib/python3.10/dist-packages (from pennylane) (0.10.2)\n",
            "Collecting appdirs (from pennylane)\n",
            "  Downloading appdirs-1.4.4-py2.py3-none-any.whl.metadata (9.0 kB)\n",
            "Collecting autoray>=0.6.11 (from pennylane)\n",
            "  Downloading autoray-0.7.0-py3-none-any.whl.metadata (5.8 kB)\n",
            "Requirement already satisfied: cachetools in /usr/local/lib/python3.10/dist-packages (from pennylane) (5.5.0)\n",
            "Collecting pennylane-lightning>=0.39 (from pennylane)\n",
            "  Downloading PennyLane_Lightning-0.39.0-cp310-cp310-manylinux_2_28_x86_64.whl.metadata (26 kB)\n",
            "Requirement already satisfied: requests in /usr/local/lib/python3.10/dist-packages (from pennylane) (2.32.3)\n",
            "Requirement already satisfied: typing-extensions in /usr/local/lib/python3.10/dist-packages (from pennylane) (4.12.2)\n",
            "Requirement already satisfied: packaging in /usr/local/lib/python3.10/dist-packages (from pennylane) (24.2)\n",
            "Requirement already satisfied: charset-normalizer<4,>=2 in /usr/local/lib/python3.10/dist-packages (from requests->pennylane) (3.4.1)\n",
            "Requirement already satisfied: idna<4,>=2.5 in /usr/local/lib/python3.10/dist-packages (from requests->pennylane) (3.10)\n",
            "Requirement already satisfied: urllib3<3,>=1.21.1 in /usr/local/lib/python3.10/dist-packages (from requests->pennylane) (2.3.0)\n",
            "Requirement already satisfied: certifi>=2017.4.17 in /usr/local/lib/python3.10/dist-packages (from requests->pennylane) (2024.12.14)\n",
            "Downloading PennyLane-0.39.0-py3-none-any.whl (1.9 MB)\n",
            "\u001b[2K   \u001b[90m━━━━━━━━━━━━━━━━━━━━━━━━━━━━━━━━━━━━━━━━\u001b[0m \u001b[32m1.9/1.9 MB\u001b[0m \u001b[31m52.0 MB/s\u001b[0m eta \u001b[36m0:00:00\u001b[0m\n",
            "\u001b[?25hDownloading autoray-0.7.0-py3-none-any.whl (930 kB)\n",
            "\u001b[2K   \u001b[90m━━━━━━━━━━━━━━━━━━━━━━━━━━━━━━━━━━━━━━━━\u001b[0m \u001b[32m930.0/930.0 kB\u001b[0m \u001b[31m54.9 MB/s\u001b[0m eta \u001b[36m0:00:00\u001b[0m\n",
            "\u001b[?25hDownloading PennyLane_Lightning-0.39.0-cp310-cp310-manylinux_2_28_x86_64.whl (1.7 MB)\n",
            "\u001b[2K   \u001b[90m━━━━━━━━━━━━━━━━━━━━━━━━━━━━━━━━━━━━━━━━\u001b[0m \u001b[32m1.7/1.7 MB\u001b[0m \u001b[31m70.5 MB/s\u001b[0m eta \u001b[36m0:00:00\u001b[0m\n",
            "\u001b[?25hDownloading rustworkx-0.15.1-cp38-abi3-manylinux_2_17_x86_64.manylinux2014_x86_64.whl (2.0 MB)\n",
            "\u001b[2K   \u001b[90m━━━━━━━━━━━━━━━━━━━━━━━━━━━━━━━━━━━━━━━━\u001b[0m \u001b[32m2.0/2.0 MB\u001b[0m \u001b[31m77.6 MB/s\u001b[0m eta \u001b[36m0:00:00\u001b[0m\n",
            "\u001b[?25hDownloading appdirs-1.4.4-py2.py3-none-any.whl (9.6 kB)\n",
            "Installing collected packages: appdirs, rustworkx, autoray, pennylane-lightning, pennylane\n",
            "Successfully installed appdirs-1.4.4 autoray-0.7.0 pennylane-0.39.0 pennylane-lightning-0.39.0 rustworkx-0.15.1\n"
          ]
        }
      ]
    },
    {
      "cell_type": "code",
      "source": [
        "import os\n",
        "import time\n",
        "import copy\n",
        "\n",
        "# PyTorch\n",
        "import torch\n",
        "import torch.nn as nn\n",
        "import torch.optim as optim\n",
        "\n",
        "from torch.optim import lr_scheduler\n",
        "import torchvision\n",
        "from torchvision import datasets, transforms\n",
        "from torchvision.datasets.folder import IMG_EXTENSIONS\n",
        "\n",
        "import pandas as pd\n",
        "import matplotlib.pyplot as plt\n",
        "import cv2\n",
        "\n",
        "import shutil\n",
        "import PIL\n",
        "import numpy as np\n",
        "import pickle\n",
        "import h5py\n",
        "\n",
        "# PennyLane\n",
        "import pennylane as qml\n",
        "from pennylane import numpy as pnp"
      ],
      "metadata": {
        "id": "WkljAHefrhXc"
      },
      "execution_count": null,
      "outputs": []
    },
    {
      "cell_type": "code",
      "source": [
        "# Ensure compatibility with .jpg files\n",
        "IMG_EXTENSIONS = ('.jpg', '.jpeg')  # Restrict to jpg and jpeg\n",
        "\n",
        "# Quantum Circuit Parameters\n",
        "n_qubits = 4  # Number of qubits\n",
        "q_depth = 6  # Depth of the quantum circuit\n",
        "\n",
        "# Define the quantum device\n",
        "dev = qml.device(\"default.qubit\", wires=n_qubits)"
      ],
      "metadata": {
        "id": "iDmhu6TfrlS1"
      },
      "execution_count": null,
      "outputs": []
    },
    {
      "cell_type": "code",
      "source": [
        "# Quantum Neural Network\n",
        "@qml.qnode(dev, interface=\"torch\")\n",
        "def quantum_net(q_input_features, q_weights_flat):\n",
        "    \"\"\"\n",
        "    The variational quantum circuit.\n",
        "    \"\"\"\n",
        "    # Reshape weights\n",
        "    q_weights = q_weights_flat.reshape(q_depth, n_qubits)\n",
        "\n",
        "    # Start from state |+> , unbiased w.r.t. |0> and |1>\n",
        "    def H_layer(n):\n",
        "        for wire in range(n):\n",
        "            qml.Hadamard(wires=wire)\n",
        "\n",
        "    def RY_layer(params):\n",
        "        for wire in range(len(params)):\n",
        "            qml.RY(params[wire], wires=wire)\n",
        "\n",
        "    def entangling_layer(n):\n",
        "        for wire in range(n - 1):\n",
        "            qml.CNOT(wires=[wire, wire + 1])\n",
        "        qml.CNOT(wires=[n - 1, 0])\n",
        "\n",
        "    H_layer(n_qubits)\n",
        "    RY_layer(q_input_features)\n",
        "\n",
        "    # Sequence of trainable variational layers\n",
        "    for k in range(q_depth):\n",
        "        entangling_layer(n_qubits)\n",
        "        RY_layer(q_weights[k])\n",
        "\n",
        "    # Expectation values in the Z basis\n",
        "    exp_vals = [qml.expval(qml.PauliZ(position)) for position in range(n_qubits)]\n",
        "    return tuple(exp_vals)\n",
        "\n",
        "# Quantum Layer\n",
        "class QuantumLayer(nn.Module):\n",
        "    def __init__(self):\n",
        "        super(QuantumLayer, self).__init__()\n",
        "        self.q_weights = nn.Parameter(torch.rand(q_depth * n_qubits))\n",
        "\n",
        "    def forward(self, x):\n",
        "        # Convert each output from quantum_net (tuple) to a tensor and ensure dtype matches the model\n",
        "        q_out = torch.stack([\n",
        "            torch.tensor(quantum_net(x[i], self.q_weights), device=x.device, dtype=x.dtype)\n",
        "            for i in range(x.shape[0])\n",
        "        ])\n",
        "        return q_out"
      ],
      "metadata": {
        "id": "puV9bc-orqRJ"
      },
      "execution_count": null,
      "outputs": []
    },
    {
      "cell_type": "code",
      "source": [
        "# Function to load and preprocess the dataset\n",
        "def load_dataset(data_dir):\n",
        "    data_transforms = {\n",
        "        'train': transforms.Compose([\n",
        "            transforms.Resize((224, 224)),\n",
        "            transforms.RandomHorizontalFlip(),\n",
        "            transforms.ToTensor(),\n",
        "            transforms.Normalize([0.485, 0.456, 0.406], [0.229, 0.224, 0.225])\n",
        "        ]),\n",
        "        'val': transforms.Compose([\n",
        "            transforms.Resize((224, 224)),\n",
        "            transforms.ToTensor(),\n",
        "            transforms.Normalize([0.485, 0.456, 0.406], [0.229, 0.224, 0.225])\n",
        "        ]),\n",
        "    }\n",
        "\n",
        "    # Load datasets for train and validation\n",
        "    image_datasets = {x: datasets.ImageFolder(os.path.join(data_dir, x), data_transforms[x])\n",
        "                      for x in ['train', 'val']}\n",
        "\n",
        "    dataloaders = {x: torch.utils.data.DataLoader(image_datasets[x], batch_size=32, shuffle=True, num_workers=4)\n",
        "                   for x in ['train', 'val']}\n",
        "\n",
        "    dataset_sizes = {x: len(image_datasets[x]) for x in ['train', 'val']}\n",
        "    class_names = image_datasets['train'].classes\n",
        "\n",
        "    return dataloaders, dataset_sizes, class_names"
      ],
      "metadata": {
        "id": "dmp-7vZBr-fW"
      },
      "execution_count": null,
      "outputs": []
    },
    {
      "cell_type": "code",
      "source": [
        "# Update model training pipeline to ensure .jpg compatibility\n",
        "def train_model(model, criterion, optimizer, scheduler, num_epochs=25):\n",
        "    since = time.time()\n",
        "\n",
        "    best_model_wts = copy.deepcopy(model.state_dict())\n",
        "    best_acc = 0.0\n",
        "\n",
        "    train_losses = []\n",
        "    val_losses = []\n",
        "    train_accuracies = []\n",
        "    val_accuracies = []\n",
        "\n",
        "    for epoch in range(num_epochs):\n",
        "        print(f'Epoch {epoch}/{num_epochs - 1}')\n",
        "        print('-' * 10)\n",
        "\n",
        "        # Each epoch has a training and validation phase\n",
        "        for phase in ['train', 'val']:\n",
        "            if phase == 'train':\n",
        "                model.train()  # Set model to training mode\n",
        "            else:\n",
        "                model.eval()   # Set model to evaluate mode\n",
        "\n",
        "            running_loss = 0.0\n",
        "            running_corrects = 0\n",
        "\n",
        "            # Iterate over data.\n",
        "            for inputs, labels in dataloaders[phase]:\n",
        "                inputs = inputs.to(device)\n",
        "                labels = labels.to(device)\n",
        "\n",
        "                # Zero the parameter gradients\n",
        "                optimizer.zero_grad()\n",
        "\n",
        "                # Forward\n",
        "                # Track history if only in train\n",
        "                with torch.set_grad_enabled(phase == 'train'):\n",
        "                    outputs = model(inputs)\n",
        "                    _, preds = torch.max(outputs, 1)\n",
        "                    loss = criterion(outputs, labels)\n",
        "\n",
        "                    # Backward + optimize only if in training phase\n",
        "                    if phase == 'train':\n",
        "                        loss.backward()\n",
        "                        optimizer.step()\n",
        "\n",
        "                # Statistics\n",
        "                running_loss += loss.item() * inputs.size(0)\n",
        "                running_corrects += torch.sum(preds == labels.data)\n",
        "\n",
        "            if phase == 'train':\n",
        "                scheduler.step()\n",
        "\n",
        "            epoch_loss = running_loss / dataset_sizes[phase]\n",
        "            epoch_acc = running_corrects.double() / dataset_sizes[phase]\n",
        "\n",
        "            print(f'{phase} Loss: {epoch_loss:.4f} Acc: {epoch_acc:.4f}')\n",
        "\n",
        "            # Save metrics for visualization\n",
        "            if phase == 'train':\n",
        "                train_losses.append(epoch_loss)\n",
        "                train_accuracies.append(epoch_acc.item())\n",
        "            else:\n",
        "                val_losses.append(epoch_loss)\n",
        "                val_accuracies.append(epoch_acc.item())\n",
        "\n",
        "            # Deep copy the model\n",
        "            if phase == 'val' and epoch_acc > best_acc:\n",
        "                best_acc = epoch_acc\n",
        "                best_model_wts = copy.deepcopy(model.state_dict())\n",
        "\n",
        "        print()\n",
        "\n",
        "    time_elapsed = time.time() - since\n",
        "    print(f'Training complete in {time_elapsed // 60:.0f}m {time_elapsed % 60:.0f}s')\n",
        "    print(f'Best val Acc: {best_acc:4f}')\n",
        "\n",
        "    # Load best model weights\n",
        "    model.load_state_dict(best_model_wts)\n",
        "\n",
        "    # Plot training and validation loss\n",
        "    plt.figure(figsize=(10, 5))\n",
        "    plt.plot(train_losses, label='Training Loss')\n",
        "    plt.plot(val_losses, label='Validation Loss')\n",
        "    plt.title('Loss Over Epochs')\n",
        "    plt.xlabel('Epochs')\n",
        "    plt.ylabel('Loss')\n",
        "    plt.legend()\n",
        "    plt.show()\n",
        "\n",
        "    # Plot training and validation accuracy\n",
        "    plt.figure(figsize=(10, 5))\n",
        "    plt.plot(train_accuracies, label='Training Accuracy')\n",
        "    plt.plot(val_accuracies, label='Validation Accuracy')\n",
        "    plt.title('Accuracy Over Epochs')\n",
        "    plt.xlabel('Epochs')\n",
        "    plt.ylabel('Accuracy')\n",
        "    plt.legend()\n",
        "    plt.show()\n",
        "\n",
        "    return model\n"
      ],
      "metadata": {
        "id": "JXlFC_KIsDgd"
      },
      "execution_count": null,
      "outputs": []
    },
    {
      "cell_type": "code",
      "source": [
        "# Save the model\n",
        "def save_model(model, path):\n",
        "    torch.save(model.state_dict(), path)\n",
        "    print(f\"Model saved to {path}\")"
      ],
      "metadata": {
        "id": "C3fhEY7jsJ4F"
      },
      "execution_count": null,
      "outputs": []
    },
    {
      "cell_type": "code",
      "source": [
        "# Test on a single image\n",
        "def test_single_image(model, image_path, class_names):\n",
        "    model.eval()\n",
        "\n",
        "    # Preprocess the image\n",
        "    preprocess = transforms.Compose([\n",
        "        transforms.Resize((224, 224)),\n",
        "        transforms.ToTensor(),\n",
        "        transforms.Normalize([0.485, 0.456, 0.406], [0.229, 0.224, 0.225])\n",
        "    ])\n",
        "\n",
        "    image = PIL.Image.open(image_path).convert('RGB')\n",
        "    image = preprocess(image).unsqueeze(0).to(device)\n",
        "\n",
        "    # Make prediction\n",
        "    with torch.no_grad():\n",
        "        outputs = model(image)\n",
        "        _, preds = torch.max(outputs, 1)\n",
        "        predicted_class = class_names[preds[0]]\n",
        "\n",
        "    print(f\"Predicted Class: {predicted_class}\")"
      ],
      "metadata": {
        "id": "LNUpexq1sMsu"
      },
      "execution_count": null,
      "outputs": []
    },
    {
      "cell_type": "code",
      "source": [
        "# Set device\n",
        "device = torch.device(\"cuda:0\" if torch.cuda.is_available() else \"cpu\")\n",
        "device"
      ],
      "metadata": {
        "colab": {
          "base_uri": "https://localhost:8080/"
        },
        "id": "qqyEIdTwsNcK",
        "outputId": "66e7f5a3-cb39-4bf1-a4cb-f3ac569ccbb7"
      },
      "execution_count": null,
      "outputs": [
        {
          "output_type": "execute_result",
          "data": {
            "text/plain": [
              "device(type='cuda', index=0)"
            ]
          },
          "metadata": {},
          "execution_count": 34
        }
      ]
    },
    {
      "cell_type": "code",
      "source": [
        "# Define paths and model\n",
        "data_dir = '/content/drive/MyDrive/bt_output'\n",
        "dataloaders, dataset_sizes, class_names = load_dataset(data_dir)"
      ],
      "metadata": {
        "id": "QlMhb6MKsNfg"
      },
      "execution_count": null,
      "outputs": []
    },
    {
      "cell_type": "code",
      "source": [
        "# Example: Initialize a hybrid classical-quantum model\n",
        "class HybridModel(nn.Module):\n",
        "    def __init__(self):\n",
        "        super(HybridModel, self).__init__()\n",
        "        self.conv = torchvision.models.resnet18(pretrained=True)\n",
        "        num_ftrs = self.conv.fc.in_features\n",
        "        self.conv.fc = nn.Linear(num_ftrs, n_qubits)\n",
        "        self.q_layer = QuantumLayer()\n",
        "        self.fc = nn.Linear(n_qubits, len(class_names))\n",
        "\n",
        "    def forward(self, x):\n",
        "        x = self.conv(x)\n",
        "        x = self.q_layer(x)\n",
        "        x = self.fc(x)\n",
        "        return x"
      ],
      "metadata": {
        "id": "jbarOmtXsVTh"
      },
      "execution_count": null,
      "outputs": []
    },
    {
      "cell_type": "code",
      "source": [
        "model_ft = HybridModel().to(device)"
      ],
      "metadata": {
        "id": "noI7YDQzsVWX"
      },
      "execution_count": null,
      "outputs": []
    },
    {
      "cell_type": "code",
      "source": [
        "# Define loss function and optimizer\n",
        "criterion = nn.CrossEntropyLoss()\n",
        "optimizer_ft = optim.SGD(model_ft.parameters(), lr=0.001, momentum=0.9)\n",
        "scheduler = lr_scheduler.StepLR(optimizer_ft, step_size=7, gamma=0.1)"
      ],
      "metadata": {
        "id": "fKdgIEvTsVZg"
      },
      "execution_count": null,
      "outputs": []
    },
    {
      "cell_type": "code",
      "source": [
        "# Train the model\n",
        "model_ft = train_model(model_ft, criterion, optimizer_ft, scheduler, num_epochs=25)"
      ],
      "metadata": {
        "colab": {
          "base_uri": "https://localhost:8080/",
          "height": 1000
        },
        "id": "PnSUzuFTsocV",
        "outputId": "e74ce90a-1010-4c14-d061-51329219144f"
      },
      "execution_count": null,
      "outputs": [
        {
          "output_type": "stream",
          "name": "stdout",
          "text": [
            "Epoch 0/24\n",
            "----------\n",
            "train Loss: 1.1140 Acc: 0.3399\n",
            "val Loss: 1.1176 Acc: 0.3287\n",
            "\n",
            "Epoch 1/24\n",
            "----------\n",
            "train Loss: 1.1076 Acc: 0.3359\n",
            "val Loss: 1.1058 Acc: 0.3447\n",
            "\n",
            "Epoch 2/24\n",
            "----------\n",
            "train Loss: 1.1020 Acc: 0.3449\n",
            "val Loss: 1.1010 Acc: 0.3527\n",
            "\n",
            "Epoch 3/24\n",
            "----------\n",
            "train Loss: 1.0997 Acc: 0.3394\n",
            "val Loss: 1.0960 Acc: 0.3487\n",
            "\n",
            "Epoch 4/24\n",
            "----------\n",
            "train Loss: 1.0961 Acc: 0.3439\n",
            "val Loss: 1.0949 Acc: 0.3327\n",
            "\n",
            "Epoch 5/24\n",
            "----------\n",
            "train Loss: 1.0948 Acc: 0.3540\n",
            "val Loss: 1.0934 Acc: 0.3547\n",
            "\n",
            "Epoch 6/24\n",
            "----------\n",
            "train Loss: 1.0922 Acc: 0.3640\n",
            "val Loss: 1.0914 Acc: 0.3647\n",
            "\n",
            "Epoch 7/24\n",
            "----------\n",
            "train Loss: 1.0924 Acc: 0.3640\n",
            "val Loss: 1.0916 Acc: 0.3768\n",
            "\n",
            "Epoch 8/24\n",
            "----------\n",
            "train Loss: 1.0928 Acc: 0.3550\n",
            "val Loss: 1.0907 Acc: 0.3788\n",
            "\n",
            "Epoch 9/24\n",
            "----------\n",
            "train Loss: 1.0922 Acc: 0.3555\n",
            "val Loss: 1.0917 Acc: 0.3687\n",
            "\n",
            "Epoch 10/24\n",
            "----------\n",
            "train Loss: 1.0914 Acc: 0.3711\n",
            "val Loss: 1.0896 Acc: 0.3928\n",
            "\n",
            "Epoch 11/24\n",
            "----------\n",
            "train Loss: 1.0910 Acc: 0.3751\n",
            "val Loss: 1.0900 Acc: 0.3747\n",
            "\n",
            "Epoch 12/24\n",
            "----------\n",
            "train Loss: 1.0924 Acc: 0.3625\n",
            "val Loss: 1.0904 Acc: 0.3848\n",
            "\n",
            "Epoch 13/24\n",
            "----------\n",
            "train Loss: 1.0912 Acc: 0.3691\n",
            "val Loss: 1.0902 Acc: 0.3788\n",
            "\n",
            "Epoch 14/24\n",
            "----------\n",
            "train Loss: 1.0901 Acc: 0.3726\n",
            "val Loss: 1.0911 Acc: 0.3747\n",
            "\n",
            "Epoch 15/24\n",
            "----------\n",
            "train Loss: 1.0920 Acc: 0.3646\n",
            "val Loss: 1.0899 Acc: 0.3968\n",
            "\n",
            "Epoch 16/24\n",
            "----------\n",
            "train Loss: 1.0915 Acc: 0.3646\n",
            "val Loss: 1.0913 Acc: 0.3848\n",
            "\n",
            "Epoch 17/24\n",
            "----------\n",
            "train Loss: 1.0918 Acc: 0.3726\n",
            "val Loss: 1.0903 Acc: 0.3908\n",
            "\n",
            "Epoch 18/24\n",
            "----------\n",
            "train Loss: 1.0914 Acc: 0.3771\n",
            "val Loss: 1.0889 Acc: 0.4008\n",
            "\n",
            "Epoch 19/24\n",
            "----------\n",
            "train Loss: 1.0908 Acc: 0.3751\n",
            "val Loss: 1.0913 Acc: 0.3627\n",
            "\n",
            "Epoch 20/24\n",
            "----------\n",
            "train Loss: 1.0913 Acc: 0.3736\n",
            "val Loss: 1.0903 Acc: 0.3828\n",
            "\n",
            "Epoch 21/24\n",
            "----------\n",
            "train Loss: 1.0911 Acc: 0.3721\n",
            "val Loss: 1.0906 Acc: 0.3868\n",
            "\n",
            "Epoch 22/24\n",
            "----------\n",
            "train Loss: 1.0920 Acc: 0.3610\n",
            "val Loss: 1.0912 Acc: 0.3908\n",
            "\n",
            "Epoch 23/24\n",
            "----------\n",
            "train Loss: 1.0926 Acc: 0.3580\n",
            "val Loss: 1.0904 Acc: 0.3948\n",
            "\n",
            "Epoch 24/24\n",
            "----------\n",
            "train Loss: 1.0911 Acc: 0.3751\n",
            "val Loss: 1.0902 Acc: 0.3808\n",
            "\n",
            "Training complete in 47m 51s\n",
            "Best val Acc: 0.400802\n"
          ]
        },
        {
          "output_type": "display_data",
          "data": {
            "text/plain": [
              "<Figure size 1000x500 with 1 Axes>"
            ],
            "image/png": "[encoded data removed]"
          },
          "metadata": {}
        },
        {
          "output_type": "display_data",
          "data": {
            "text/plain": [
              "<Figure size 1000x500 with 1 Axes>"
            ],
            "image/png": "[encoded data removed]"
          },
          "metadata": {}
        }
      ]
    },
    {
      "cell_type": "code",
      "source": [
        "# Save the model\n",
        "save_model_path = '/content/drive/MyDrive/model_ft.pth'\n",
        "save_model(model_ft, save_model_path)"
      ],
      "metadata": {
        "colab": {
          "base_uri": "https://localhost:8080/"
        },
        "id": "Tqw4CnoSsorG",
        "outputId": "2944c93a-e18d-4f39-c7dd-a30ed94b7086"
      },
      "execution_count": null,
      "outputs": [
        {
          "output_type": "stream",
          "name": "stdout",
          "text": [
            "Model saved to /content/drive/MyDrive/model_ft.pth\n"
          ]
        }
      ]
    },
    {
      "cell_type": "code",
      "source": [
        "# Test on a single image\n",
        "image_path = input()\n",
        "test_single_image(model_ft, image_path, class_names)\n"
      ],
      "metadata": {
        "id": "ZBPFOLfLrdXj"
      },
      "execution_count": null,
      "outputs": []
    },
    {
      "cell_type": "code",
      "source": [],
      "metadata": {
        "id": "-cKDC60aswre"
      },
      "execution_count": null,
      "outputs": []
    }
  ]
}